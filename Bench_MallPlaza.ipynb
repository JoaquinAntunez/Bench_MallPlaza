{
 "cells": [
  {
   "cell_type": "markdown",
   "id": "45bfcc40-2a8c-42b9-b59e-90035649b4fd",
   "metadata": {},
   "source": [
    "# Mapeo de indicador\n",
    "## Bench Mall Plaza"
   ]
  },
  {
   "cell_type": "markdown",
   "id": "3ac136ea-0cb5-4f6b-b869-9b8de5cb8ab4",
   "metadata": {},
   "source": [
    "<div class = 'alert alert-block alert-info'>\n",
    "    <b>Indicadores : </b> Entrada, Ventas \n",
    "    </div>"
   ]
  },
  {
   "cell_type": "markdown",
   "id": "e266658f-68d6-41f0-b6c6-238013fd5e4c",
   "metadata": {},
   "source": [
    "<div class = 'alert alert-block alert-warning' >\n",
    "              <b>Filtros :</b> Centro Comercial, Mes, Semana, Año\n",
    "              </div>"
   ]
  },
  {
   "cell_type": "markdown",
   "id": "313d8f3d-6f4c-4b5a-93da-b70573f2a2fd",
   "metadata": {},
   "source": [
    "### Funciones"
   ]
  },
  {
   "cell_type": "markdown",
   "id": "18cc38e4-1ac1-4e6c-9a60-f2c3956aa337",
   "metadata": {},
   "source": [
    "#### Entradas"
   ]
  },
  {
   "cell_type": "markdown",
   "id": "8a5c51a0-6df0-431b-85c7-b680f3754e43",
   "metadata": {},
   "source": [
    "#### Ventas"
   ]
  },
  {
   "cell_type": "markdown",
   "id": "23dabaad-8c30-48cf-86c7-ab2fe877189a",
   "metadata": {},
   "source": [
    "### Filtros indicadores"
   ]
  },
  {
   "cell_type": "markdown",
   "id": "d19f99e1-be8b-4c39-b830-b4b2debcdfd4",
   "metadata": {},
   "source": [
    "Entradas > a 0 con holding ≥ 3"
   ]
  },
  {
   "cell_type": "code",
   "execution_count": null,
   "id": "d2b5d526-0d4d-477c-ae1a-d3abd8e9d803",
   "metadata": {},
   "outputs": [],
   "source": []
  }
 ],
 "metadata": {
  "kernelspec": {
   "display_name": "Python 3 (ipykernel)",
   "language": "python",
   "name": "python3"
  },
  "language_info": {
   "codemirror_mode": {
    "name": "ipython",
    "version": 3
   },
   "file_extension": ".py",
   "mimetype": "text/x-python",
   "name": "python",
   "nbconvert_exporter": "python",
   "pygments_lexer": "ipython3",
   "version": "3.10.6"
  }
 },
 "nbformat": 4,
 "nbformat_minor": 5
}
