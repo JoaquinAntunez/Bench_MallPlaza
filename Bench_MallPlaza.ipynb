{
 "cells": [
  {
   "cell_type": "markdown",
   "id": "45bfcc40-2a8c-42b9-b59e-90035649b4fd",
   "metadata": {},
   "source": [
    "# Mapeo de indicador\n",
    "## Bench Mall Plaza"
   ]
  },
  {
   "cell_type": "markdown",
   "id": "3ac136ea-0cb5-4f6b-b869-9b8de5cb8ab4",
   "metadata": {},
   "source": [
    "<div class = 'alert alert-block alert-info'>\n",
    "    <b>Indicadores : </b> Entrada, Ventas \n",
    "    </div>"
   ]
  },
  {
   "cell_type": "markdown",
   "id": "e266658f-68d6-41f0-b6c6-238013fd5e4c",
   "metadata": {},
   "source": [
    "<div class = 'alert alert-block alert-warning' >\n",
    "              <b>Filtros :</b> Centro Comercial, Mes, Semana, Año\n",
    "              </div>"
   ]
  },
  {
   "cell_type": "markdown",
   "id": "313d8f3d-6f4c-4b5a-93da-b70573f2a2fd",
   "metadata": {},
   "source": [
    "### Funciones"
   ]
  },
  {
   "cell_type": "markdown",
   "id": "18cc38e4-1ac1-4e6c-9a60-f2c3956aa337",
   "metadata": {
    "tags": []
   },
   "source": [
    "#### Tarjeta"
   ]
  },
  {
   "cell_type": "markdown",
   "id": "8d19ba9b-ad74-4a75-b183-3a72b3580744",
   "metadata": {
    "tags": []
   },
   "source": [
    "##### <b>Entrada y Venta</b> *(Indicador)*"
   ]
  },
  {
   "cell_type": "markdown",
   "id": "90ba4046-8a00-4cd8-912d-22d6272c05e1",
   "metadata": {},
   "source": [
    "<b>(Indicador) Holding/Industria : </b> Promedio diario por tienda = suma de promedios diarios dividido el numero de días en el rango filtrado"
   ]
  },
  {
   "cell_type": "markdown",
   "id": "9500a7b7-0703-4da7-9d34-331a2bc0cac9",
   "metadata": {},
   "source": [
    "<b>Var (indicador) mes anterior Holding/Industria :</b>Variación porcentual entre los promedios diarios del holding y de la industria"
   ]
  },
  {
   "cell_type": "markdown",
   "id": "295ea666-4a3f-4193-be54-1f4284999f3a",
   "metadata": {},
   "source": [
    "<b>VP = (promedio diario del holding menos el promedio diario de la industria dividido por el promedio diario de la industria )*100%</b>"
   ]
  },
  {
   "cell_type": "markdown",
   "id": "77d18c03-a932-4eac-ae12-fafbe38022bd",
   "metadata": {
    "tags": []
   },
   "source": [
    "#### Variación (indicador) --> gráfico comparativo entre Holding/Industria"
   ]
  },
  {
   "cell_type": "markdown",
   "id": "574890e4-1c1c-4918-b8c8-c4833ee237dd",
   "metadata": {},
   "source": [
    "#### Evolutivo (indicador) comparado con la industria"
   ]
  },
  {
   "cell_type": "markdown",
   "id": "7f084aeb-dc15-4f96-83af-bca42045dab4",
   "metadata": {},
   "source": [
    "#### Tabla (indicador) por categoría entre Holding y la Industria"
   ]
  },
  {
   "cell_type": "markdown",
   "id": "cccc4d64-bdb9-481c-9e10-0e552601a01e",
   "metadata": {},
   "source": [
    "#### Variación por centro comercial y por categoría"
   ]
  },
  {
   "cell_type": "markdown",
   "id": "5c7eff89-cc74-45ea-b956-38354b0385a7",
   "metadata": {},
   "source": [
    "_______"
   ]
  },
  {
   "cell_type": "markdown",
   "id": "23dabaad-8c30-48cf-86c7-ab2fe877189a",
   "metadata": {
    "tags": []
   },
   "source": [
    "### Filtros indicadores"
   ]
  },
  {
   "cell_type": "markdown",
   "id": "d19f99e1-be8b-4c39-b830-b4b2debcdfd4",
   "metadata": {},
   "source": [
    "<b>Entradas</b> > a 0 con holding ≥ 3"
   ]
  },
  {
   "cell_type": "markdown",
   "id": "938a8aea-d304-4d82-a6de-47c655070195",
   "metadata": {},
   "source": [
    "<b>Ventas</b> indiferente "
   ]
  },
  {
   "cell_type": "markdown",
   "id": "03585eb8-7830-466f-9410-82a8aadea911",
   "metadata": {},
   "source": [
    "Categoría debe tener al menos 3 holding"
   ]
  },
  {
   "cell_type": "markdown",
   "id": "0c7d3b1b-50ac-4740-8fef-67e413862b07",
   "metadata": {},
   "source": [
    "*! Si existe cliente synergy no se muestra (tiendas que comparten data a mall plaza pero no son clientes nuestros)*"
   ]
  },
  {
   "cell_type": "markdown",
   "id": "aa1a33ab-5b3d-455d-8d5c-c3ac351e1954",
   "metadata": {},
   "source": [
    "_______"
   ]
  },
  {
   "cell_type": "markdown",
   "id": "1c5ea443-5849-4339-a655-976c79810895",
   "metadata": {},
   "source": [
    "### Dimensiones"
   ]
  },
  {
   "cell_type": "code",
   "execution_count": null,
   "id": "91110d73-b45b-4c79-a478-4f9dba09a62e",
   "metadata": {},
   "outputs": [],
   "source": []
  }
 ],
 "metadata": {
  "kernelspec": {
   "display_name": "Python 3 (ipykernel)",
   "language": "python",
   "name": "python3"
  },
  "language_info": {
   "codemirror_mode": {
    "name": "ipython",
    "version": 3
   },
   "file_extension": ".py",
   "mimetype": "text/x-python",
   "name": "python",
   "nbconvert_exporter": "python",
   "pygments_lexer": "ipython3",
   "version": "3.10.6"
  }
 },
 "nbformat": 4,
 "nbformat_minor": 5
}
